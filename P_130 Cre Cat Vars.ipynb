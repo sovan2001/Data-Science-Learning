{
 "cells": [
  {
   "cell_type": "markdown",
   "metadata": {},
   "source": [
    "## Creating Categorical Variables"
   ]
  },
  {
   "cell_type": "code",
   "execution_count": 1,
   "metadata": {},
   "outputs": [],
   "source": [
    "import pandas as pd"
   ]
  },
  {
   "cell_type": "code",
   "execution_count": 4,
   "metadata": {},
   "outputs": [],
   "source": [
    "car_colors = pd.Series(['Blue', 'Red', 'Green'], dtype = 'category')"
   ]
  },
  {
   "cell_type": "code",
   "execution_count": 5,
   "metadata": {},
   "outputs": [],
   "source": [
    "car_data = pd.Series(pd.Categorical(['Yellow', 'Green', 'Red', 'Blue', 'Purple'], categories = car_colors, ordered = False))"
   ]
  },
  {
   "cell_type": "code",
   "execution_count": 6,
   "metadata": {},
   "outputs": [],
   "source": [
    "find_entries = pd.isnull(car_data)"
   ]
  },
  {
   "cell_type": "code",
   "execution_count": 7,
   "metadata": {},
   "outputs": [
    {
     "name": "stdout",
     "output_type": "stream",
     "text": [
      "0     Blue\n",
      "1      Red\n",
      "2    Green\n",
      "dtype: category\n",
      "Categories (3, object): ['Blue', 'Green', 'Red']\n"
     ]
    }
   ],
   "source": [
    "print(car_colors)"
   ]
  },
  {
   "cell_type": "code",
   "execution_count": 8,
   "metadata": {},
   "outputs": [
    {
     "name": "stdout",
     "output_type": "stream",
     "text": [
      "0      NaN\n",
      "1    Green\n",
      "2      Red\n",
      "3     Blue\n",
      "4      NaN\n",
      "dtype: category\n",
      "Categories (3, object): ['Blue', 'Green', 'Red']\n"
     ]
    }
   ],
   "source": [
    "print(car_data)"
   ]
  },
  {
   "cell_type": "code",
   "execution_count": 9,
   "metadata": {},
   "outputs": [
    {
     "name": "stdout",
     "output_type": "stream",
     "text": [
      "0    True\n",
      "4    True\n",
      "dtype: bool\n"
     ]
    }
   ],
   "source": [
    "print(find_entries[find_entries == True])"
   ]
  },
  {
   "cell_type": "code",
   "execution_count": null,
   "metadata": {},
   "outputs": [],
   "source": []
  }
 ],
 "metadata": {
  "interpreter": {
   "hash": "718cc2f15655f9db08ac6613c61622dcec3b342cb6f413d0f20fa8778e752ade"
  },
  "kernelspec": {
   "display_name": "Python 3.9.7 64-bit ('Mach_env': venv)",
   "language": "python",
   "name": "python3"
  },
  "language_info": {
   "codemirror_mode": {
    "name": "ipython",
    "version": 3
   },
   "file_extension": ".py",
   "mimetype": "text/x-python",
   "name": "python",
   "nbconvert_exporter": "python",
   "pygments_lexer": "ipython3",
   "version": "3.9.7"
  },
  "orig_nbformat": 4
 },
 "nbformat": 4,
 "nbformat_minor": 2
}
